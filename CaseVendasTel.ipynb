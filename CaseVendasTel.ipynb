{
 "cells": [
  {
   "cell_type": "markdown",
   "id": "b7838826-c88b-4076-b880-766e9d1ed1de",
   "metadata": {},
   "source": [
    "# Case de Estudo | Análise de Mercado: Tecnologias e Estratégias para Smartphones"
   ]
  },
  {
   "cell_type": "markdown",
   "id": "03708eff-07e8-4d44-82e3-de2614679e81",
   "metadata": {},
   "source": [
    "18 de Agosto de 2024"
   ]
  },
  {
   "cell_type": "markdown",
   "id": "0486df3f-4ee8-45b4-9067-443a614fbd35",
   "metadata": {},
   "source": [
    "Temos uma base de Dados com os telefones mais vendidos pelo mundo. Uma empresa de tecnologia deseja entender as tendências do mercado de telefones celulares ao longo dos anos. A empresa deseja tomar decisões informadas sobre quais tecnologias de telefone investir no futuro. "
   ]
  },
  {
   "cell_type": "markdown",
   "id": "cdc45709-37fa-4911-97a0-b3d5897b1016",
   "metadata": {},
   "source": [
    "### Perguntas de Negócio:"
   ]
  },
  {
   "cell_type": "markdown",
   "id": "205adcfd-2c5d-4a46-bab9-4eacf4fca7f9",
   "metadata": {},
   "source": [
    "**Análise de Tendências por Ano:**\n",
    "\n",
    "- Qual foi a evolução das unidades vendidas ao longo dos anos?\n",
    "- Quais foram os anos com maior crescimento e maior queda nas vendas?"
   ]
  },
  {
   "cell_type": "markdown",
   "id": "70008fa9-1809-4900-98c5-0cb26876b54d",
   "metadata": {},
   "source": [
    "**Análise de Fabricantes:**\n",
    "\n",
    "- Quais fabricantes dominaram o mercado em termos de unidades vendidas?"
   ]
  },
  {
   "cell_type": "markdown",
   "id": "2e2bf9fb-9512-4a11-9d7a-7b6b5ed557ed",
   "metadata": {},
   "source": [
    "**Análise de Fator de Forma:**\n",
    "\n",
    "- Quais fatores de forma foram mais populares em termos de vendas?\n",
    "- Como as preferências dos consumidores mudaram ao longo dos anos em relação ao fator de forma?"
   ]
  },
  {
   "cell_type": "markdown",
   "id": "5ce73233-dea8-49fd-b448-72ad4a691370",
   "metadata": {},
   "source": [
    "**Comparação de Modelos:**\n",
    "\n",
    "- Quais modelos foram os mais vendidos?\n",
    "- Existe algum padrão entre os modelos mais vendidos em relação ao fabricante, ano ou fator de forma?"
   ]
  },
  {
   "cell_type": "markdown",
   "id": "39df6553-9690-4c55-8906-e4630cf4ddfe",
   "metadata": {},
   "source": [
    "**Insights e Recomendações:**\n",
    "\n",
    "- Com base nas tendências observadas, quais recomendações você faria para a empresa em termos de investimento em novos modelos de telefone, tecnologias ou parcerias com fabricantes?\n",
    "- Existe algum mercado ou tendência emergente que a empresa deve observar mais de perto?"
   ]
  },
  {
   "cell_type": "markdown",
   "id": "77913395-2352-461b-8dc2-94364c7ea129",
   "metadata": {},
   "source": [
    "### Base de Dados:\n",
    "https://www.kaggle.com/datasets/muhammadroshaanriaz/global-best-selling-phone-sales"
   ]
  },
  {
   "cell_type": "markdown",
   "id": "004d737e-cf4e-4e4e-8ca2-bf638ee9518f",
   "metadata": {},
   "source": [
    "-----------------------------------------------------------------------------------------------------"
   ]
  },
  {
   "cell_type": "code",
   "execution_count": 12,
   "id": "c5198dca-0084-4ddb-af1d-762a0eae6e66",
   "metadata": {},
   "outputs": [
    {
     "data": {
      "text/html": [
       "<div>\n",
       "<style scoped>\n",
       "    .dataframe tbody tr th:only-of-type {\n",
       "        vertical-align: middle;\n",
       "    }\n",
       "\n",
       "    .dataframe tbody tr th {\n",
       "        vertical-align: top;\n",
       "    }\n",
       "\n",
       "    .dataframe thead th {\n",
       "        text-align: right;\n",
       "    }\n",
       "</style>\n",
       "<table border=\"1\" class=\"dataframe\">\n",
       "  <thead>\n",
       "    <tr style=\"text-align: right;\">\n",
       "      <th></th>\n",
       "      <th>Rank</th>\n",
       "      <th>Manufacturer</th>\n",
       "      <th>Model</th>\n",
       "      <th>Form Factor</th>\n",
       "      <th>Smartphone?</th>\n",
       "      <th>Year</th>\n",
       "      <th>Units Sold (million )</th>\n",
       "    </tr>\n",
       "  </thead>\n",
       "  <tbody>\n",
       "    <tr>\n",
       "      <th>0</th>\n",
       "      <td>1</td>\n",
       "      <td>Nokia</td>\n",
       "      <td>1100</td>\n",
       "      <td>Bar</td>\n",
       "      <td>False</td>\n",
       "      <td>2003</td>\n",
       "      <td>250.0</td>\n",
       "    </tr>\n",
       "    <tr>\n",
       "      <th>1</th>\n",
       "      <td>2</td>\n",
       "      <td>Nokia</td>\n",
       "      <td>1110</td>\n",
       "      <td>Bar</td>\n",
       "      <td>False</td>\n",
       "      <td>2005</td>\n",
       "      <td>247.5</td>\n",
       "    </tr>\n",
       "    <tr>\n",
       "      <th>2</th>\n",
       "      <td>3</td>\n",
       "      <td>Apple</td>\n",
       "      <td>iPhone 6 &amp; 6 Plus</td>\n",
       "      <td>Touchscreen</td>\n",
       "      <td>True</td>\n",
       "      <td>2014</td>\n",
       "      <td>222.4</td>\n",
       "    </tr>\n",
       "    <tr>\n",
       "      <th>3</th>\n",
       "      <td>4</td>\n",
       "      <td>Nokia</td>\n",
       "      <td>105 Series</td>\n",
       "      <td>Bar</td>\n",
       "      <td>False</td>\n",
       "      <td>2013</td>\n",
       "      <td>200.0</td>\n",
       "    </tr>\n",
       "    <tr>\n",
       "      <th>4</th>\n",
       "      <td>5</td>\n",
       "      <td>Apple</td>\n",
       "      <td>iPhone 6S &amp; 6S Plus</td>\n",
       "      <td>Touchscreen</td>\n",
       "      <td>True</td>\n",
       "      <td>2015</td>\n",
       "      <td>174.1</td>\n",
       "    </tr>\n",
       "  </tbody>\n",
       "</table>\n",
       "</div>"
      ],
      "text/plain": [
       "   Rank Manufacturer                Model  Form Factor  Smartphone?  Year  \\\n",
       "0     1        Nokia                 1100          Bar        False  2003   \n",
       "1     2        Nokia                 1110          Bar        False  2005   \n",
       "2     3        Apple    iPhone 6 & 6 Plus  Touchscreen         True  2014   \n",
       "3     4        Nokia           105 Series          Bar        False  2013   \n",
       "4     5        Apple  iPhone 6S & 6S Plus  Touchscreen         True  2015   \n",
       "\n",
       "   Units Sold (million )  \n",
       "0                  250.0  \n",
       "1                  247.5  \n",
       "2                  222.4  \n",
       "3                  200.0  \n",
       "4                  174.1  "
      ]
     },
     "execution_count": 12,
     "metadata": {},
     "output_type": "execute_result"
    }
   ],
   "source": [
    "import pandas as pd\n",
    "\n",
    "df = pd.read_csv('top 120 best-selling mobile phones.csv')\n",
    "df.head(5)"
   ]
  },
  {
   "cell_type": "code",
   "execution_count": 13,
   "id": "302c482c-5dd7-4235-8a70-5c94928824cd",
   "metadata": {},
   "outputs": [
    {
     "name": "stdout",
     "output_type": "stream",
     "text": [
      "<class 'pandas.core.frame.DataFrame'>\n",
      "RangeIndex: 120 entries, 0 to 119\n",
      "Data columns (total 7 columns):\n",
      " #   Column                 Non-Null Count  Dtype  \n",
      "---  ------                 --------------  -----  \n",
      " 0   Rank                   120 non-null    int64  \n",
      " 1   Manufacturer           120 non-null    object \n",
      " 2   Model                  120 non-null    object \n",
      " 3   Form Factor            120 non-null    object \n",
      " 4   Smartphone?            120 non-null    bool   \n",
      " 5   Year                   120 non-null    int64  \n",
      " 6   Units Sold (million )  120 non-null    float64\n",
      "dtypes: bool(1), float64(1), int64(2), object(3)\n",
      "memory usage: 5.9+ KB\n"
     ]
    }
   ],
   "source": [
    "df.info()"
   ]
  },
  {
   "cell_type": "code",
   "execution_count": 14,
   "id": "269b4dc6-a3dc-4888-92a5-064ad44e6428",
   "metadata": {},
   "outputs": [
    {
     "data": {
      "text/html": [
       "<div>\n",
       "<style scoped>\n",
       "    .dataframe tbody tr th:only-of-type {\n",
       "        vertical-align: middle;\n",
       "    }\n",
       "\n",
       "    .dataframe tbody tr th {\n",
       "        vertical-align: top;\n",
       "    }\n",
       "\n",
       "    .dataframe thead th {\n",
       "        text-align: right;\n",
       "    }\n",
       "</style>\n",
       "<table border=\"1\" class=\"dataframe\">\n",
       "  <thead>\n",
       "    <tr style=\"text-align: right;\">\n",
       "      <th></th>\n",
       "      <th>Rank</th>\n",
       "      <th>Year</th>\n",
       "      <th>Units Sold (million )</th>\n",
       "    </tr>\n",
       "  </thead>\n",
       "  <tbody>\n",
       "    <tr>\n",
       "      <th>count</th>\n",
       "      <td>120.000000</td>\n",
       "      <td>120.000000</td>\n",
       "      <td>120.000000</td>\n",
       "    </tr>\n",
       "    <tr>\n",
       "      <th>mean</th>\n",
       "      <td>60.500000</td>\n",
       "      <td>2012.758333</td>\n",
       "      <td>48.050000</td>\n",
       "    </tr>\n",
       "    <tr>\n",
       "      <th>std</th>\n",
       "      <td>34.785054</td>\n",
       "      <td>6.590030</td>\n",
       "      <td>58.044835</td>\n",
       "    </tr>\n",
       "    <tr>\n",
       "      <th>min</th>\n",
       "      <td>1.000000</td>\n",
       "      <td>1996.000000</td>\n",
       "      <td>2.000000</td>\n",
       "    </tr>\n",
       "    <tr>\n",
       "      <th>25%</th>\n",
       "      <td>30.750000</td>\n",
       "      <td>2007.000000</td>\n",
       "      <td>10.000000</td>\n",
       "    </tr>\n",
       "    <tr>\n",
       "      <th>50%</th>\n",
       "      <td>60.500000</td>\n",
       "      <td>2013.000000</td>\n",
       "      <td>22.050000</td>\n",
       "    </tr>\n",
       "    <tr>\n",
       "      <th>75%</th>\n",
       "      <td>90.250000</td>\n",
       "      <td>2019.000000</td>\n",
       "      <td>60.000000</td>\n",
       "    </tr>\n",
       "    <tr>\n",
       "      <th>max</th>\n",
       "      <td>120.000000</td>\n",
       "      <td>2024.000000</td>\n",
       "      <td>250.000000</td>\n",
       "    </tr>\n",
       "  </tbody>\n",
       "</table>\n",
       "</div>"
      ],
      "text/plain": [
       "             Rank         Year  Units Sold (million )\n",
       "count  120.000000   120.000000             120.000000\n",
       "mean    60.500000  2012.758333              48.050000\n",
       "std     34.785054     6.590030              58.044835\n",
       "min      1.000000  1996.000000               2.000000\n",
       "25%     30.750000  2007.000000              10.000000\n",
       "50%     60.500000  2013.000000              22.050000\n",
       "75%     90.250000  2019.000000              60.000000\n",
       "max    120.000000  2024.000000             250.000000"
      ]
     },
     "execution_count": 14,
     "metadata": {},
     "output_type": "execute_result"
    }
   ],
   "source": [
    "df.describe()"
   ]
  },
  {
   "cell_type": "code",
   "execution_count": 15,
   "id": "dadc5d3f-76ca-4315-a9d6-feee86d49d92",
   "metadata": {},
   "outputs": [
    {
     "data": {
      "text/plain": [
       "Rank                     0\n",
       "Manufacturer             0\n",
       "Model                    0\n",
       "Form Factor              0\n",
       "Smartphone?              0\n",
       "Year                     0\n",
       "Units Sold (million )    0\n",
       "dtype: int64"
      ]
     },
     "execution_count": 15,
     "metadata": {},
     "output_type": "execute_result"
    }
   ],
   "source": [
    "df.isnull().sum()"
   ]
  },
  {
   "cell_type": "code",
   "execution_count": 16,
   "id": "70a6a92f-533a-487e-a5aa-df2125b73817",
   "metadata": {},
   "outputs": [
    {
     "data": {
      "text/html": [
       "<div>\n",
       "<style scoped>\n",
       "    .dataframe tbody tr th:only-of-type {\n",
       "        vertical-align: middle;\n",
       "    }\n",
       "\n",
       "    .dataframe tbody tr th {\n",
       "        vertical-align: top;\n",
       "    }\n",
       "\n",
       "    .dataframe thead th {\n",
       "        text-align: right;\n",
       "    }\n",
       "</style>\n",
       "<table border=\"1\" class=\"dataframe\">\n",
       "  <thead>\n",
       "    <tr style=\"text-align: right;\">\n",
       "      <th></th>\n",
       "      <th>Classificação</th>\n",
       "      <th>Fabricante</th>\n",
       "      <th>Modelo</th>\n",
       "      <th>Fator_forma</th>\n",
       "      <th>Celular?</th>\n",
       "      <th>Ano</th>\n",
       "      <th>Unidades_vendidas</th>\n",
       "    </tr>\n",
       "  </thead>\n",
       "  <tbody>\n",
       "    <tr>\n",
       "      <th>0</th>\n",
       "      <td>1</td>\n",
       "      <td>Nokia</td>\n",
       "      <td>1100</td>\n",
       "      <td>Bar</td>\n",
       "      <td>False</td>\n",
       "      <td>2003</td>\n",
       "      <td>250.0</td>\n",
       "    </tr>\n",
       "    <tr>\n",
       "      <th>1</th>\n",
       "      <td>2</td>\n",
       "      <td>Nokia</td>\n",
       "      <td>1110</td>\n",
       "      <td>Bar</td>\n",
       "      <td>False</td>\n",
       "      <td>2005</td>\n",
       "      <td>247.5</td>\n",
       "    </tr>\n",
       "    <tr>\n",
       "      <th>2</th>\n",
       "      <td>3</td>\n",
       "      <td>Apple</td>\n",
       "      <td>iPhone 6 &amp; 6 Plus</td>\n",
       "      <td>Touchscreen</td>\n",
       "      <td>True</td>\n",
       "      <td>2014</td>\n",
       "      <td>222.4</td>\n",
       "    </tr>\n",
       "    <tr>\n",
       "      <th>3</th>\n",
       "      <td>4</td>\n",
       "      <td>Nokia</td>\n",
       "      <td>105 Series</td>\n",
       "      <td>Bar</td>\n",
       "      <td>False</td>\n",
       "      <td>2013</td>\n",
       "      <td>200.0</td>\n",
       "    </tr>\n",
       "    <tr>\n",
       "      <th>4</th>\n",
       "      <td>5</td>\n",
       "      <td>Apple</td>\n",
       "      <td>iPhone 6S &amp; 6S Plus</td>\n",
       "      <td>Touchscreen</td>\n",
       "      <td>True</td>\n",
       "      <td>2015</td>\n",
       "      <td>174.1</td>\n",
       "    </tr>\n",
       "  </tbody>\n",
       "</table>\n",
       "</div>"
      ],
      "text/plain": [
       "   Classificação Fabricante               Modelo  Fator_forma  Celular?   Ano  \\\n",
       "0              1      Nokia                 1100          Bar     False  2003   \n",
       "1              2      Nokia                 1110          Bar     False  2005   \n",
       "2              3      Apple    iPhone 6 & 6 Plus  Touchscreen      True  2014   \n",
       "3              4      Nokia           105 Series          Bar     False  2013   \n",
       "4              5      Apple  iPhone 6S & 6S Plus  Touchscreen      True  2015   \n",
       "\n",
       "   Unidades_vendidas  \n",
       "0              250.0  \n",
       "1              247.5  \n",
       "2              222.4  \n",
       "3              200.0  \n",
       "4              174.1  "
      ]
     },
     "execution_count": 16,
     "metadata": {},
     "output_type": "execute_result"
    }
   ],
   "source": [
    "df = df.rename(columns = {'Rank':'Classificação','Manufacturer':'Fabricante','Model':'Modelo','Form Factor':'Fator_forma','Smartphone?':'Celular?','Year':'Ano','Units Sold (million )':'Unidades_vendidas'})\n",
    "df.head(5)"
   ]
  },
  {
   "cell_type": "code",
   "execution_count": 17,
   "id": "791163f1-7a52-4c7e-8016-07b26818a8a7",
   "metadata": {},
   "outputs": [
    {
     "data": {
      "text/html": [
       "<div>\n",
       "<style scoped>\n",
       "    .dataframe tbody tr th:only-of-type {\n",
       "        vertical-align: middle;\n",
       "    }\n",
       "\n",
       "    .dataframe tbody tr th {\n",
       "        vertical-align: top;\n",
       "    }\n",
       "\n",
       "    .dataframe thead th {\n",
       "        text-align: right;\n",
       "    }\n",
       "</style>\n",
       "<table border=\"1\" class=\"dataframe\">\n",
       "  <thead>\n",
       "    <tr style=\"text-align: right;\">\n",
       "      <th></th>\n",
       "      <th>Classificação</th>\n",
       "      <th>Fabricante</th>\n",
       "      <th>Modelo</th>\n",
       "      <th>Fator_forma</th>\n",
       "      <th>Celular?</th>\n",
       "      <th>Ano</th>\n",
       "      <th>Unidades_vendidas</th>\n",
       "    </tr>\n",
       "  </thead>\n",
       "  <tbody>\n",
       "    <tr>\n",
       "      <th>2</th>\n",
       "      <td>3</td>\n",
       "      <td>Apple</td>\n",
       "      <td>iPhone 6 &amp; 6 Plus</td>\n",
       "      <td>Touchscreen</td>\n",
       "      <td>True</td>\n",
       "      <td>2014</td>\n",
       "      <td>222.4</td>\n",
       "    </tr>\n",
       "    <tr>\n",
       "      <th>4</th>\n",
       "      <td>5</td>\n",
       "      <td>Apple</td>\n",
       "      <td>iPhone 6S &amp; 6S Plus</td>\n",
       "      <td>Touchscreen</td>\n",
       "      <td>True</td>\n",
       "      <td>2015</td>\n",
       "      <td>174.1</td>\n",
       "    </tr>\n",
       "    <tr>\n",
       "      <th>5</th>\n",
       "      <td>6</td>\n",
       "      <td>Apple</td>\n",
       "      <td>iPhone 5S</td>\n",
       "      <td>Touchscreen</td>\n",
       "      <td>True</td>\n",
       "      <td>2013</td>\n",
       "      <td>164.5</td>\n",
       "    </tr>\n",
       "    <tr>\n",
       "      <th>7</th>\n",
       "      <td>8</td>\n",
       "      <td>Apple</td>\n",
       "      <td>iPhone 7 &amp; 7 Plus</td>\n",
       "      <td>Touchscreen</td>\n",
       "      <td>True</td>\n",
       "      <td>2016</td>\n",
       "      <td>159.9</td>\n",
       "    </tr>\n",
       "    <tr>\n",
       "      <th>8</th>\n",
       "      <td>9</td>\n",
       "      <td>Apple</td>\n",
       "      <td>iPhone11, 11Pro &amp; 11Pro Max</td>\n",
       "      <td>Touchscreen</td>\n",
       "      <td>True</td>\n",
       "      <td>2019</td>\n",
       "      <td>159.2</td>\n",
       "    </tr>\n",
       "  </tbody>\n",
       "</table>\n",
       "</div>"
      ],
      "text/plain": [
       "   Classificação Fabricante                       Modelo  Fator_forma  \\\n",
       "2              3      Apple            iPhone 6 & 6 Plus  Touchscreen   \n",
       "4              5      Apple          iPhone 6S & 6S Plus  Touchscreen   \n",
       "5              6      Apple                    iPhone 5S  Touchscreen   \n",
       "7              8      Apple            iPhone 7 & 7 Plus  Touchscreen   \n",
       "8              9      Apple  iPhone11, 11Pro & 11Pro Max  Touchscreen   \n",
       "\n",
       "   Celular?   Ano  Unidades_vendidas  \n",
       "2      True  2014              222.4  \n",
       "4      True  2015              174.1  \n",
       "5      True  2013              164.5  \n",
       "7      True  2016              159.9  \n",
       "8      True  2019              159.2  "
      ]
     },
     "execution_count": 17,
     "metadata": {},
     "output_type": "execute_result"
    }
   ],
   "source": [
    "# Filtrando para analisarmos apenas os modelos que são considerados Smartphones.\n",
    "\n",
    "df_true = df[df['Celular?'] == True]\n",
    "df_true.head(5)"
   ]
  },
  {
   "cell_type": "markdown",
   "id": "c600665f-5333-4a23-b0ab-37709e87eada",
   "metadata": {},
   "source": [
    "----------------------------------------------------------------------------------------"
   ]
  },
  {
   "cell_type": "markdown",
   "id": "1b343b02-3ab1-4f4e-aba8-e1ae6f7e84df",
   "metadata": {},
   "source": [
    "### Respondendo Perguntas de Negócio:"
   ]
  },
  {
   "cell_type": "markdown",
   "id": "883637bc-2655-4bd7-8197-d4eef36e86e6",
   "metadata": {},
   "source": [
    "### 1. Análise de Tendências por Ano:"
   ]
  },
  {
   "cell_type": "markdown",
   "id": "c69a6e7a-8937-4b74-b771-066836016039",
   "metadata": {},
   "source": [
    "- Qual foi a evolução das unidades vendidas ao longo dos anos?\n",
    "- Quais foram os anos com maior crescimento e maior queda nas vendas?"
   ]
  },
  {
   "cell_type": "markdown",
   "id": "805a4afd-4155-43eb-8d7c-2a1330004109",
   "metadata": {},
   "source": [
    "![img1](tendencia2.png)\n",
    "\n",
    "**Gráfico Produzido no Microsoft Power BI**"
   ]
  },
  {
   "cell_type": "markdown",
   "id": "02eb20d9-1d9d-4e34-9f82-3a498201b763",
   "metadata": {},
   "source": [
    "As unidades vendidas apresentaram uma forte queda ao longo dos anos. O pico de vendas ocorreu em 2019, com 3.301 unidades vendidas, seguido por uma diminuição acentuada nos anos seguintes, até atingir valores mínimos a partir de 2021, com menos de 150 unidades por ano.\n",
    "Mais a frente, abordarei o motivo dessa alta de vendas no ano de 2019."
   ]
  },
  {
   "cell_type": "markdown",
   "id": "91c2442b-c6db-468d-8e8d-a8b037a83abf",
   "metadata": {},
   "source": [
    "### 2. Análise de Fabricantes:"
   ]
  },
  {
   "cell_type": "markdown",
   "id": "0338183f-868a-4749-9421-42fc9fef1393",
   "metadata": {},
   "source": [
    "- Quais fabricantes dominaram o mercado em termos de unidades vendidas?"
   ]
  },
  {
   "cell_type": "markdown",
   "id": "0c3d8fd5-8c87-49d9-8456-70ecbe2296db",
   "metadata": {},
   "source": [
    "![img2](fabricante1.png)\n",
    "\n",
    "**Gráfico produzido no Microsoft Power BI**"
   ]
  },
  {
   "cell_type": "markdown",
   "id": "f18f9a9c-9de7-448f-a6c3-4f152f01e1f7",
   "metadata": {},
   "source": [
    "**Fabricantes que dominaram o mercado:**\n",
    "\n",
    "- **Apple** dominou o mercado com uma grande vantagem, totalizando 13,6 mil unidades vendidas.\n",
    "\n",
    "- **Samsung** ficou em segundo lugar, com 3,6 mil unidades vendidas.\n",
    "Outras marcas como Nokia, Huawei, e Xiaomi têm vendas significativamente menores, com valores entre 0,1 mil e 0,4 mil unidades."
   ]
  },
  {
   "cell_type": "markdown",
   "id": "c4dcb1c6-fefc-4d76-bbc9-9d290e6b2591",
   "metadata": {},
   "source": [
    "Outras marcas, como Nokia, Huawei, e Xiaomi, parecem ter pouca relevância no total de unidades vendidas, sem grandes mudanças notáveis de posição no mercado, o que sugere que não ganharam destaque significativo ao longo do tempo."
   ]
  },
  {
   "cell_type": "markdown",
   "id": "4ad4d98b-8fe5-45dc-894a-61f5524618b6",
   "metadata": {},
   "source": [
    "### 3. Análise de Fator de Forma:"
   ]
  },
  {
   "cell_type": "markdown",
   "id": "b6824e44-5277-4491-824c-34db79d0756c",
   "metadata": {},
   "source": [
    "- Quais fatores de forma foram mais populares em termos de vendas?\r",
    "- \n",
    "Como as preferências dos consumidores mudaram ao longo dos anos em relação ao fator de forma?"
   ]
  },
  {
   "cell_type": "markdown",
   "id": "ecec751c-949f-4bf5-84ea-81356e5aa680",
   "metadata": {},
   "source": [
    "![img3](fator1.png)\n",
    "![img4](fator2.png)\n",
    "\n",
    "**Gráfico produzido no Microsoft Power BI**"
   ]
  },
  {
   "cell_type": "markdown",
   "id": "ea827150-9a12-496c-8119-8cdc5d991ae0",
   "metadata": {},
   "source": [
    "**Quais fatores de forma foram mais populares em termos de vendas?**\n",
    "\n",
    "- **Touchscreen:** Claramente, o fator de forma mais popular em termos de vendas é o Touchscreen. Isso é evidente no primeiro gráfico, onde o Touchscreen é responsável por todas as 18 mil unidades vendidas."
   ]
  },
  {
   "cell_type": "markdown",
   "id": "8caf0155-cc89-4706-b793-98217aaa5e32",
   "metadata": {},
   "source": [
    "**Como as preferências dos consumidores mudaram ao longo dos anos em relação ao fator de forma?**\n",
    "\n",
    "- O segundo gráfico mostra uma clara preferência crescente por dispositivos Touchscreen ao longo dos anos, especialmente a partir de 2012, com um pico em 2019 (3301 unidades vendidas).\n",
    "\n",
    "- Antes de 2012, os dispositivos com o fator de forma Bar tiveram algum destaque, com um número pequeno de vendas em 2003 (185 unidades vendidas). Outros fatores de forma, como Keyboard bar, Slider, Taco, praticamente desapareceram em termos de popularidade ao longo do tempo, com vendas muito baixas ou inexistentes nos últimos anos."
   ]
  },
  {
   "cell_type": "markdown",
   "id": "188b3916-fbcb-4dfa-8e76-4ec74599b631",
   "metadata": {},
   "source": [
    "**Resumo das mudanças nas preferências:**\n",
    "\n",
    "A preferência dos consumidores mudou drasticamente em favor de dispositivos Touchscreen ao longo dos anos, especialmente a partir de 2012. Os outros fatores de forma se tornaram quase insignificantes em termos de vendas ao longo do tempo."
   ]
  },
  {
   "cell_type": "markdown",
   "id": "a4bbbf9f-98ec-46aa-be52-ecca13778755",
   "metadata": {},
   "source": [
    "### 4. Comparação de Modelos:"
   ]
  },
  {
   "cell_type": "markdown",
   "id": "0622e40c-6235-4e3f-83ea-b24b230751e5",
   "metadata": {},
   "source": [
    "- Quais modelos foram os mais vendidos?\r",
    "- \n",
    "Existe algum padrão entre os modelos mais vendidos em relação ao fabricante, ano ou fator de forma?"
   ]
  },
  {
   "cell_type": "markdown",
   "id": "a720dcaf-e75e-4756-b875-04eb96ebb17c",
   "metadata": {},
   "source": [
    "![img5](modelo1.png)\n",
    "\n",
    "**Gráfico Produzido no Microsoft Power BI**"
   ]
  },
  {
   "cell_type": "markdown",
   "id": "77f6c0a3-33f8-4fe2-a37a-b92ecd9663d7",
   "metadata": {},
   "source": [
    "**Quais modelos foram os mais vendidos?**\n",
    "\n",
    "- O iPhone 6 & 6 Plus é o modelo mais vendido, com 2224 unidades.\n",
    "- Seguido pelo iPhone 6S & 6S Plus com 1741 unidades.\n",
    "- O iPhone 5S ocupa a terceira posição com 1645 unidades vendidas."
   ]
  },
  {
   "cell_type": "markdown",
   "id": "48c0a309-e0b6-4058-8fa2-87f95727739c",
   "metadata": {},
   "source": [
    "**Existe algum padrão entre os modelos mais vendidos em relação ao fabricante, ano ou fator de forma?**\n",
    "\n",
    "**Fabricante:** A Apple domina os modelos mais vendidos, com múltiplas versões do iPhone no topo da lista. O primeiro modelo não Apple, o Galaxy S9 & S9+ da Samsung, aparece somente na nona posição.\n",
    "\n",
    "**Ano:** Os modelos mais vendidos são, em sua maioria, de gerações anteriores, como o iPhone 6 (2014) e iPhone 5S (2013), sugerindo que os consumidores continuam comprando modelos mais antigos, possivelmente devido ao custo-benefício.\n",
    "\n",
    "**Fator de Forma:** Todos os modelos mais vendidos, especialmente os iPhones, utilizam o fator de forma Touchscreen. Isso confirma a preferência por esse tipo de design, como visto nos gráficos anteriores."
   ]
  },
  {
   "cell_type": "markdown",
   "id": "d284aaa6-ed7e-442c-9222-8016100f8bb2",
   "metadata": {},
   "source": [
    "- **Resumo do Padrão:**\n",
    "A Apple lidera as vendas com seus modelos mais antigos, principalmente os iPhones com fator de forma touchscreen, indicando uma forte preferência do consumidor por esses dispositivos ao longo dos anos"
   ]
  },
  {
   "cell_type": "markdown",
   "id": "f8f600c8-50d2-4fd7-be8d-3bbc0ef20231",
   "metadata": {},
   "source": [
    "### Insights e Recomendações:"
   ]
  },
  {
   "cell_type": "markdown",
   "id": "48ec85fb-d62b-45be-9c64-d2e6906a92d9",
   "metadata": {},
   "source": [
    "- Com base nas tendências observadas, quais recomendações você faria para a empresa em termos de investimento em novos modelos de telefone, tecnologias ou parcerias com fabricantes?\n",
    "- Existe algum mercado ou tendência emergente que a empresa deve observar mais de perto?"
   ]
  },
  {
   "cell_type": "markdown",
   "id": "cd3af6d7-6bb6-4acf-8d59-d1ef9da4ad2f",
   "metadata": {},
   "source": [
    "**1. Investimento em Tecnologias Exclusivas**"
   ]
  },
  {
   "cell_type": "markdown",
   "id": "92a08893-c3e6-451d-867d-291591ca8843",
   "metadata": {},
   "source": [
    "- **Integração de Inteligência Artificial (IA):** A Apple tem se destacado no uso de IA para melhorar a experiência do usuário, desde o processamento de imagem para fotografias de alta qualidade até a otimização da performance do sistema, como no caso do chip A13 Bionic que alimenta os modelos de iPhone 11. A empresa deve considerar o desenvolvimento de IA para aprimorar recursos como a assistente virtual (similar à Siri), câmeras com processamento de imagem inteligente, e funcionalidades de personalização que se adaptam ao comportamento do usuário. Investir em IA não só melhora a experiência do usuário, mas também otimiza o desempenho do dispositivo em tarefas cotidianas.\n",
    "\n",
    "- **Recursos de Segurança:** Tecnologias como Face ID e Touch ID são exemplos de como a Apple transformou a segurança em um diferencial competitivo. Considerar a implementação de tecnologias biométricas avançadas, talvez combinadas com IA para detectar tentativas de fraude ou invasões, pode aumentar a confiança do consumidor no seu produto."
   ]
  },
  {
   "cell_type": "markdown",
   "id": "4d3999e9-401d-488e-b2bb-93c441f7e4e8",
   "metadata": {},
   "source": [
    "**2. Foco em Custo-Benefício**"
   ]
  },
  {
   "cell_type": "markdown",
   "id": "98d2ccc4-26a2-4c6c-bde8-0f9bc83b2367",
   "metadata": {},
   "source": [
    "- **Diversificação de Modelos:** A Apple tem uma estratégia clara de oferecer modelos \"Pro\" e \"Standard\" para diferentes públicos. Enquanto o iPhone 11 foi um sucesso em 2019, oferecendo uma combinação de alta performance a um preço relativamente acessível, modelos como o iPhone 6 e 6 Plus dominaram em 2014 devido ao seu equilíbrio entre preço e funcionalidades. A empresa pode adotar uma estratégia semelhante, lançando uma linha de produtos que ofereça um equilíbrio entre preço competitivo e funcionalidades premium.\n",
    "\n",
    "- **Tecnologias de Bateria e Eficiência Energética:** Uma das áreas mais valorizadas pelos consumidores é a durabilidade da bateria. Investir em tecnologias que aumentem a eficiência energética, talvez utilizando IA para gerenciar o consumo de energia com base nos hábitos de uso do consumidor, pode ser um diferencial importante para atrair compradores conscientes do custo-benefício."
   ]
  },
  {
   "cell_type": "markdown",
   "id": "d1711b88-34f1-4323-b4fd-5517c2e02e9b",
   "metadata": {},
   "source": [
    "**3. Estratégias de Marketing Inspiradas na Apple**"
   ]
  },
  {
   "cell_type": "markdown",
   "id": "e8512d50-012d-4b46-b85e-36a86f30e1f1",
   "metadata": {},
   "source": [
    "- **Experiência de Usuário Integrada:** A Apple é conhecida por sua \"ecosfera\" de produtos que funcionam perfeitamente juntos. Considerar o desenvolvimento de um ecossistema de produtos em que diferentes dispositivos da sua marca se integrem perfeitamente pode criar um valor adicional para os consumidores, incentivando-os a permanecer dentro da marca.\n",
    "\n",
    "- **Marketing de Exclusividade:** Apple tem sido bem-sucedida em criar uma aura de exclusividade ao redor de seus produtos, usando campanhas de marketing que destacam a inovação e o design premium. Investir em campanhas que destacam a singularidade dos dispositivos, talvez enfatizando as tecnologias de IA exclusivas ou a segurança avançada, pode ajudar a posicionar a marca como uma alternativa premium."
   ]
  },
  {
   "cell_type": "markdown",
   "id": "d979988e-e3bc-4a2a-b813-8fcee656952d",
   "metadata": {},
   "source": [
    "**4. Observação de Tendências Emergentes**"
   ]
  },
  {
   "cell_type": "markdown",
   "id": "c180d7e1-582a-4dd6-aa82-1db82cb245bc",
   "metadata": {},
   "source": [
    "- **Expansão no Mercado de Dispositivos de Médio Custo:** Os dados mostram que os consumidores estão dispostos a investir em dispositivos que oferecem bom custo-benefício, como foi o caso do iPhone 11. Com a crescente demanda por dispositivos de médio custo que ainda oferecem desempenho e recursos de ponta, a empresa deve focar em atender essa demanda.\n",
    "\n",
    "- **Tecnologias Sustentáveis e Reparabilidade:** Com o aumento da conscientização ambiental, consumidores estão mais inclinados a escolher dispositivos que sejam sustentáveis e fáceis de reparar. Investir em tecnologias sustentáveis e em designs que permitam fácil manutenção e reparo pode posicionar a marca como uma escolha responsável e econômica."
   ]
  },
  {
   "cell_type": "markdown",
   "id": "105dcb57-f7b2-4608-8658-f2b9c84db8db",
   "metadata": {},
   "source": [
    "-----------------------------------------------------------------------------------------------------"
   ]
  },
  {
   "cell_type": "markdown",
   "id": "18e33dfe-b004-41e2-b3eb-8adaaa86fc55",
   "metadata": {},
   "source": [
    "### Conclusão\n",
    "A empresa tem uma grande oportunidade de se destacar no mercado ao combinar tecnologias avançadas de IA com estratégias de custo-benefício e marketing inteligente. Ao adotar uma abordagem que valorize a experiência do usuário, segurança, e sustentabilidade, sua marca pode capturar uma parte significativa do mercado que valoriza tanto inovação quanto acessibilidade."
   ]
  },
  {
   "cell_type": "markdown",
   "id": "b249cf65-4bb7-47e2-b7de-1262d1064c5e",
   "metadata": {},
   "source": [
    "-------------------------------------------------------------------------------------------------------"
   ]
  }
 ],
 "metadata": {
  "kernelspec": {
   "display_name": "Python 3 (ipykernel)",
   "language": "python",
   "name": "python3"
  },
  "language_info": {
   "codemirror_mode": {
    "name": "ipython",
    "version": 3
   },
   "file_extension": ".py",
   "mimetype": "text/x-python",
   "name": "python",
   "nbconvert_exporter": "python",
   "pygments_lexer": "ipython3",
   "version": "3.12.4"
  }
 },
 "nbformat": 4,
 "nbformat_minor": 5
}
